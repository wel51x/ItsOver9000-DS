{
  "nbformat": 4,
  "nbformat_minor": 0,
  "metadata": {
    "colab": {
      "name": "Test1.ipynb",
      "version": "0.3.2",
      "provenance": []
    },
    "kernelspec": {
      "name": "python3",
      "display_name": "Python 3"
    }
  },
  "cells": [
    {
      "metadata": {
        "id": "1wmsAbKkDbvD",
        "colab_type": "text"
      },
      "cell_type": "markdown",
      "source": [
        "## Winston's code"
      ]
    },
    {
      "metadata": {
        "id": "5Yd9MmIZDant",
        "colab_type": "code",
        "colab": {
          "base_uri": "https://localhost:8080/",
          "height": 285
        },
        "outputId": "116b1042-d2d6-4906-e422-d9c15280d0c0"
      },
      "cell_type": "code",
      "source": [
        "from numpy import pi, sin\n",
        "import numpy as np\n",
        "import matplotlib.pyplot as plt\n",
        "from matplotlib.widgets import Slider, Button, RadioButtons\n",
        "\n",
        "def signal(amp, freq):\n",
        "    return amp * sin(2 * pi * freq * t)\n",
        "\n",
        "axis_color = 'lightgoldenrodyellow'\n",
        "\n",
        "fig = plt.figure()\n",
        "ax = fig.add_subplot(111)\n",
        "\n",
        "# Adjust the subplots region to leave some space for the sliders and buttons\n",
        "fig.subplots_adjust(left=0.25, bottom=0.25)\n",
        "\n",
        "t = np.arange(0.0, 1.0, 0.001)\n",
        "amp_0 = 5\n",
        "freq_0 = 3\n",
        "\n",
        "# Draw the initial plot\n",
        "# The 'line' variable is used for modifying the line later\n",
        "[line] = ax.plot(t, signal(amp_0, freq_0), linewidth=2, color='red')\n",
        "ax.set_xlim([0, 1])\n",
        "ax.set_ylim([-10, 10])\n",
        "\n",
        "# Add two sliders for tweaking the parameters\n",
        "\n",
        "# Define an axes area and draw a slider in it\n",
        "amp_slider_ax  = fig.add_axes([0.25, 0.15, 0.65, 0.03], facecolor=axis_color)\n",
        "amp_slider = Slider(amp_slider_ax, 'Amp', 0.1, 10.0, valinit=amp_0)\n",
        "\n",
        "# Draw another slider\n",
        "freq_slider_ax = fig.add_axes([0.25, 0.1, 0.65, 0.03], facecolor=axis_color)\n",
        "freq_slider = Slider(freq_slider_ax, 'Freq', 0.1, 30.0, valinit=freq_0)\n",
        "\n",
        "# Define an action for modifying the line when any slider's value changes\n",
        "def sliders_on_changed(val):\n",
        "    line.set_ydata(signal(amp_slider.val, freq_slider.val))\n",
        "    fig.canvas.draw_idle()\n",
        "amp_slider.on_changed(sliders_on_changed)\n",
        "freq_slider.on_changed(sliders_on_changed)\n",
        "\n",
        "# Add a button for resetting the parameters\n",
        "reset_button_ax = fig.add_axes([0.8, 0.025, 0.1, 0.04])\n",
        "reset_button = Button(reset_button_ax, 'Reset', color=axis_color, hovercolor='0.975')\n",
        "def reset_button_on_clicked(mouse_event):\n",
        "    freq_slider.reset()\n",
        "    amp_slider.reset()\n",
        "reset_button.on_clicked(reset_button_on_clicked)\n",
        "\n",
        "# Add a set of radio buttons for changing color\n",
        "color_radios_ax = fig.add_axes([0.025, 0.5, 0.15, 0.15], facecolor=axis_color)\n",
        "color_radios = RadioButtons(color_radios_ax, ('red', 'blue', 'green'), active=0)\n",
        "def color_radios_on_clicked(label):\n",
        "    line.set_color(label)\n",
        "    fig.canvas.draw_idle()\n",
        "color_radios.on_clicked(color_radios_on_clicked)\n",
        "\n",
        "plt.show()"
      ],
      "execution_count": 1,
      "outputs": [
        {
          "output_type": "display_data",
          "data": {
            "image/png": "[encoded data removed]",
            "text/plain": [
              "<Figure size 432x288 with 5 Axes>"
            ]
          },
          "metadata": {
            "tags": []
          }
        }
      ]
    },
    {
      "metadata": {
        "id": "338zvC0wG-VS",
        "colab_type": "code",
        "colab": {
          "base_uri": "https://localhost:8080/",
          "height": 198
        },
        "outputId": "78635802-bdc2-4347-a153-432ae77bb947"
      },
      "cell_type": "code",
      "source": [
        "import IPython\n",
        "\n",
        "IPython.get_ipython().events.register('pre_run_cell', configure_plotly_browser_state)"
      ],
      "execution_count": 3,
      "outputs": [
        {
          "output_type": "error",
          "ename": "NameError",
          "evalue": "ignored",
          "traceback": [
            "\u001b[0;31m---------------------------------------------------------------------------\u001b[0m",
            "\u001b[0;31mNameError\u001b[0m                                 Traceback (most recent call last)",
            "\u001b[0;32m<ipython-input-3-cff1c390fc21>\u001b[0m in \u001b[0;36m<module>\u001b[0;34m()\u001b[0m\n\u001b[1;32m      1\u001b[0m \u001b[0;32mimport\u001b[0m \u001b[0mIPython\u001b[0m\u001b[0;34m\u001b[0m\u001b[0;34m\u001b[0m\u001b[0m\n\u001b[1;32m      2\u001b[0m \u001b[0;34m\u001b[0m\u001b[0m\n\u001b[0;32m----> 3\u001b[0;31m \u001b[0mIPython\u001b[0m\u001b[0;34m.\u001b[0m\u001b[0mget_ipython\u001b[0m\u001b[0;34m(\u001b[0m\u001b[0;34m)\u001b[0m\u001b[0;34m.\u001b[0m\u001b[0mevents\u001b[0m\u001b[0;34m.\u001b[0m\u001b[0mregister\u001b[0m\u001b[0;34m(\u001b[0m\u001b[0;34m'pre_run_cell'\u001b[0m\u001b[0;34m,\u001b[0m \u001b[0mconfigure_plotly_browser_state\u001b[0m\u001b[0;34m)\u001b[0m\u001b[0;34m\u001b[0m\u001b[0;34m\u001b[0m\u001b[0m\n\u001b[0m",
            "\u001b[0;31mNameError\u001b[0m: name 'configure_plotly_browser_state' is not defined"
          ]
        }
      ]
    },
    {
      "metadata": {
        "id": "qKcp6hh6H6SA",
        "colab_type": "code",
        "colab": {}
      },
      "cell_type": "code",
      "source": [
        "import plotly \n",
        "plotly.tools.set_credentials_file(username='wel51x', api_key='Z30pD4I7y04pvcg22vbu')"
      ],
      "execution_count": 0,
      "outputs": []
    },
    {
      "metadata": {
        "id": "m9KGlnd0Dv-e",
        "colab_type": "code",
        "colab": {
          "base_uri": "https://localhost:8080/",
          "height": 583
        },
        "outputId": "34cdb0d7-74f0-4300-f472-6ee063c7a1f6"
      },
      "cell_type": "code",
      "source": [
        "import plotly.plotly as py\n",
        "import numpy as np\n",
        "\n",
        "data = [dict(\n",
        "        visible = False,\n",
        "        line=dict(color='#00CED1', width=6),\n",
        "        name = '𝜈 = '+str(step),\n",
        "        x = np.arange(0,10,0.01),\n",
        "        y = np.sin(step*np.arange(0,10,0.01))) for step in np.arange(0,5,0.1)]\n",
        "data[10]['visible'] = True\n",
        "\n",
        "py.iplot(data, filename='Single Sine Wave')"
      ],
      "execution_count": 5,
      "outputs": [
        {
          "output_type": "stream",
          "text": [
            "High five! You successfully sent some data to your account on plotly. View your plot in your browser at https://plot.ly/~wel51x/0 or inside your plot.ly account where it is named 'Single Sine Wave'\n"
          ],
          "name": "stdout"
        },
        {
          "output_type": "execute_result",
          "data": {
            "text/html": [
              "<iframe id=\"igraph\" scrolling=\"no\" style=\"border:none;\" seamless=\"seamless\" src=\"https://plot.ly/~wel51x/0.embed\" height=\"525px\" width=\"100%\"></iframe>"
            ],
            "text/plain": [
              "<plotly.tools.PlotlyDisplay object>"
            ]
          },
          "metadata": {
            "tags": []
          },
          "execution_count": 5
        }
      ]
    },
    {
      "metadata": {
        "id": "iGkz7LT8IMeS",
        "colab_type": "code",
        "colab": {
          "base_uri": "https://localhost:8080/",
          "height": 546
        },
        "outputId": "cbe9b106-0de0-42f8-f421-34e04a7e1960"
      },
      "cell_type": "code",
      "source": [
        "steps = []\n",
        "for i in range(len(data)):\n",
        "    step = dict(\n",
        "        method = 'restyle',  \n",
        "        args = ['visible', [False] * len(data)],\n",
        "    )\n",
        "    step['args'][1][i] = True # Toggle i'th trace to \"visible\"\n",
        "    steps.append(step)\n",
        "\n",
        "sliders = [dict(\n",
        "    active = 10,\n",
        "    currentvalue = {\"prefix\": \"Frequency: \"},\n",
        "    pad = {\"t\": 50},\n",
        "    steps = steps\n",
        ")]\n",
        "\n",
        "layout = dict(sliders=sliders)\n",
        "\n",
        "fig = dict(data=data, layout=layout)\n",
        "\n",
        "py.iplot(fig, filename='Sine Wave Slider')"
      ],
      "execution_count": 8,
      "outputs": [
        {
          "output_type": "execute_result",
          "data": {
            "text/html": [
              "<iframe id=\"igraph\" scrolling=\"no\" style=\"border:none;\" seamless=\"seamless\" src=\"https://plot.ly/~wel51x/2.embed\" height=\"525px\" width=\"100%\"></iframe>"
            ],
            "text/plain": [
              "<plotly.tools.PlotlyDisplay object>"
            ]
          },
          "metadata": {
            "tags": []
          },
          "execution_count": 8
        }
      ]
    }
  ]
}
